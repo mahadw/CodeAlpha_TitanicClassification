{
 "cells": [
  {
   "cell_type": "code",
   "execution_count": 1,
   "id": "0c7038df",
   "metadata": {},
   "outputs": [],
   "source": [
    "import numpy as np\n",
    "from sklearn.model_selection import train_test_split\n",
    "from sklearn.linear_model import LogisticRegression\n",
    "from sklearn.metrics import accuracy_score"
   ]
  },
  {
   "cell_type": "code",
   "execution_count": 2,
   "id": "2d5080f8",
   "metadata": {},
   "outputs": [],
   "source": [
    "X = np.array([[1, 25, 0],   # 1: High SES, 25 years old, Male\n",
    "              [3, 35, 1],   # 2: Medium SES, 35 years old, Female\n",
    "              [2, 45, 1],   # 3: Low SES, 45 years old, Female\n",
    "              [1, 55, 0],   # 4: High SES, 55 years old, Male\n",
    "              [3, 30, 0]]) "
   ]
  },
  {
   "cell_type": "code",
   "execution_count": 3,
   "id": "ad8dde16",
   "metadata": {},
   "outputs": [],
   "source": [
    "y = np.array([1, 1, 0, 1, 0])"
   ]
  },
  {
   "cell_type": "code",
   "execution_count": 4,
   "id": "402c1bca",
   "metadata": {},
   "outputs": [],
   "source": [
    "X_train, X_test, y_train, y_test = train_test_split(X, y, test_size=0.2, random_state=42)"
   ]
  },
  {
   "cell_type": "code",
   "execution_count": 5,
   "id": "efe0dc07",
   "metadata": {},
   "outputs": [
    {
     "data": {
      "text/plain": [
       "LogisticRegression()"
      ]
     },
     "execution_count": 5,
     "metadata": {},
     "output_type": "execute_result"
    }
   ],
   "source": [
    "model = LogisticRegression()\n",
    "model.fit(X_train, y_train)"
   ]
  },
  {
   "cell_type": "code",
   "execution_count": 6,
   "id": "8edf19ca",
   "metadata": {},
   "outputs": [],
   "source": [
    "y_pred = model.predict(X_test)"
   ]
  },
  {
   "cell_type": "code",
   "execution_count": 7,
   "id": "ca8abb58",
   "metadata": {},
   "outputs": [
    {
     "name": "stdout",
     "output_type": "stream",
     "text": [
      "Accuracy: 0.0\n"
     ]
    }
   ],
   "source": [
    "accuracy = accuracy_score(y_test, y_pred)\n",
    "print(\"Accuracy:\", accuracy)"
   ]
  },
  {
   "cell_type": "code",
   "execution_count": 11,
   "id": "ec2124e8",
   "metadata": {},
   "outputs": [
    {
     "name": "stdout",
     "output_type": "stream",
     "text": [
      "This person won't be saved from sinking\n"
     ]
    }
   ],
   "source": [
    "inp = np.array([[2, 40, 1]])  # Low SES, 40 years old, Female\n",
    "prediction = model.predict(inp)\n",
    "if prediction == 1:\n",
    "    print(\"This person will be saved from sinking\")\n",
    "else:\n",
    "    print(\"This person won't be saved from sinking\")"
   ]
  },
  {
   "cell_type": "code",
   "execution_count": null,
   "id": "6905de2e",
   "metadata": {},
   "outputs": [],
   "source": []
  }
 ],
 "metadata": {
  "kernelspec": {
   "display_name": "Python 3",
   "language": "python",
   "name": "python3"
  },
  "language_info": {
   "codemirror_mode": {
    "name": "ipython",
    "version": 3
   },
   "file_extension": ".py",
   "mimetype": "text/x-python",
   "name": "python",
   "nbconvert_exporter": "python",
   "pygments_lexer": "ipython3",
   "version": "3.8.8"
  }
 },
 "nbformat": 4,
 "nbformat_minor": 5
}
